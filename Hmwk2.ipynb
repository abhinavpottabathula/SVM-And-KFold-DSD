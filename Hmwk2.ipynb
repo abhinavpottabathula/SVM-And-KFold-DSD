{
 "cells": [
  {
   "cell_type": "markdown",
   "metadata": {},
   "source": [
    "# Homework 2 DSD - Abhinav Pottabathula"
   ]
  },
  {
   "cell_type": "code",
   "execution_count": 53,
   "metadata": {
    "collapsed": true
   },
   "outputs": [],
   "source": [
    "import numpy as np\n",
    "import pandas as pd\n",
    "import matplotlib.pyplot as plt\n",
    "from scipy.io import loadmat\n",
    "import sklearn.svm as svm\n",
    "%matplotlib inline"
   ]
  },
  {
   "cell_type": "code",
   "execution_count": 55,
   "metadata": {},
   "outputs": [],
   "source": [
    "train = pd.read_csv('training.csv')\n",
    "train_x = train.drop(train.columns[[3]], axis=1)\n",
    "train_y = train.drop(train.columns[[0, 1, 2]], axis=1)\n",
    "\n",
    "tst = pd.read_csv('test.csv')\n",
    "tst_x = tst.drop(tst.columns[[3]], axis=1)\n",
    "tst_y = tst.drop(tst.columns[[0, 1, 2]], axis=1)"
   ]
  },
  {
   "cell_type": "code",
   "execution_count": 56,
   "metadata": {},
   "outputs": [
    {
     "name": "stderr",
     "output_type": "stream",
     "text": [
      "/Users/apottaba/anaconda3/lib/python3.6/site-packages/sklearn/utils/validation.py:547: DataConversionWarning: A column-vector y was passed when a 1d array was expected. Please change the shape of y to (n_samples, ), for example using ravel().\n",
      "  y = column_or_1d(y, warn=True)\n"
     ]
    }
   ],
   "source": [
    "train_grid, tst_grid = np.ndarray(shape=(5,4)), np.ndarray(shape=(5,4))\n",
    "C = [0.0001, 0.001, 0.01, 0.1, 1]\n",
    "d = [1, 2, 3, 5]\n",
    "\n",
    "for c_pos in range(len(C)):\n",
    "    for d_pos in range(len(d)):\n",
    "        model = svm.SVC(C=C[c_pos], kernel='poly', degree=d[d_pos])\n",
    "        model.fit(train_x, train_y)\n",
    "        train_grid[c_pos][d_pos] = 1 - model.score(train_x, train_y)\n",
    "        tst_grid[c_pos][d_pos] = 1 - model.score(tst_x, tst_y)"
   ]
  },
  {
   "cell_type": "code",
   "execution_count": 57,
   "metadata": {},
   "outputs": [
    {
     "name": "stdout",
     "output_type": "stream",
     "text": [
      "[[ 0.08908909  0.08908909  0.05105105  0.01801802]\n",
      " [ 0.08908909  0.08908909  0.02102102  0.01501502]\n",
      " [ 0.08808809  0.08908909  0.01801802  0.01701702]\n",
      " [ 0.03803804  0.08908909  0.01801802  0.01601602]\n",
      " [ 0.03403403  0.08908909  0.01701702  0.01601602]]\n",
      "[[ 0.44148049  0.44148049  0.12404135  0.09769923]\n",
      " [ 0.3717906   0.44148049  0.07835945  0.10003334]\n",
      " [ 0.18772924  0.44148049  0.0606869   0.10336779]\n",
      " [ 0.22074025  0.44148049  0.05635212  0.10103368]\n",
      " [ 0.23141047  0.44148049  0.05735245  0.10003334]]\n"
     ]
    }
   ],
   "source": [
    "print(train_grid)\n",
    "print(tst_grid)"
   ]
  },
  {
   "cell_type": "code",
   "execution_count": 80,
   "metadata": {},
   "outputs": [
    {
     "data": {
      "text/plain": [
       "<matplotlib.image.AxesImage at 0x1a1a1d1898>"
      ]
     },
     "execution_count": 80,
     "metadata": {},
     "output_type": "execute_result"
    },
    {
     "data": {
      "image/png": "[encoded data removed]",
      "text/plain": [
       "<matplotlib.figure.Figure at 0x1a19eafa90>"
      ]
     },
     "metadata": {},
     "output_type": "display_data"
    }
   ],
   "source": [
    "plt.imshow(train_grid)"
   ]
  },
  {
   "cell_type": "code",
   "execution_count": 81,
   "metadata": {},
   "outputs": [
    {
     "data": {
      "text/plain": [
       "<matplotlib.image.AxesImage at 0x1a1a2ec0b8>"
      ]
     },
     "execution_count": 81,
     "metadata": {},
     "output_type": "execute_result"
    },
    {
     "data": {
      "image/png": "[encoded data removed]",
      "text/plain": [
       "<matplotlib.figure.Figure at 0x1a19736828>"
      ]
     },
     "metadata": {},
     "output_type": "display_data"
    }
   ],
   "source": [
    "plt.imshow(tst_grid)"
   ]
  },
  {
   "cell_type": "markdown",
   "metadata": {},
   "source": [
    "On what basis would you decide that a hyperparameter setting is optimal? Which setting of (C, d) gave the optimal results?\n",
    "\n",
    "I would decide a hyperparameter setting is optimal if it gives me a smaller error for both the training data and the testing data, and does not overfit to the training data. A very small error would mean overfitting to the training data. (.1, 3) gave the optimal results. The lowest test error was 0.05635212, and it had a training error of 0.01801802, so it had a good balance."
   ]
  },
  {
   "cell_type": "markdown",
   "metadata": {},
   "source": [
    "You’ll notice that between C and d, one factor mattered far more than the other. What can you conclude about the structure of the datasets and how they were generated?\n",
    "\n",
    "d is more important than C.\n",
    "\n",
    "As C increases the model will classify training data more accurately with smaller-margin hyperplanes. Thus the optimal value of C is when it is in the middle of the range [0.0001, 0.001, 0.01, 0.1,1]. Small hyperplanes are important, but when they become too small it leads to overfitting. \n",
    "\n",
    "d has a strong impact on the error, because the data best fits a certain kernel type and degree. Out of all the polynomial degrees we were asked to try, the best was d=3. \n",
    "\n",
    "In conclusion, I believe the best combination of hyperparameters matches with the hypothesis that the data was generated with some noise because the C has to be optimized in terms of its sensitivity to noise and when creating the hyper-planes."
   ]
  },
  {
   "cell_type": "markdown",
   "metadata": {},
   "source": [
    "With as much granularity as possible, which hyperparameter settings are underfitting and which are overfitting? What allows you to make this claim?\n",
    "\n",
    "The hyperparameters that are overfitting is when both C and d are really high (C=1 and/or d=5). Both their effect on the training data and the testing error is usually higher, which is characteristic of overfitting. This is also intuitive because as C increases, the classifier becomes more sensitive to noise and as d increases the kernel will become increasingly unique when drawing the boundary for the training data. With this increase, the model will strongly match the training data, but not so much the testing data."
   ]
  },
  {
   "cell_type": "code",
   "execution_count": 79,
   "metadata": {},
   "outputs": [
    {
     "name": "stderr",
     "output_type": "stream",
     "text": [
      "/Users/apottaba/anaconda3/lib/python3.6/site-packages/sklearn/utils/validation.py:547: DataConversionWarning: A column-vector y was passed when a 1d array was expected. Please change the shape of y to (n_samples, ), for example using ravel().\n",
      "  y = column_or_1d(y, warn=True)\n"
     ]
    },
    {
     "data": {
      "text/html": [
       "<div>\n",
       "<style>\n",
       "    .dataframe thead tr:only-child th {\n",
       "        text-align: right;\n",
       "    }\n",
       "\n",
       "    .dataframe thead th {\n",
       "        text-align: left;\n",
       "    }\n",
       "\n",
       "    .dataframe tbody tr th {\n",
       "        vertical-align: top;\n",
       "    }\n",
       "</style>\n",
       "<table border=\"1\" class=\"dataframe\">\n",
       "  <thead>\n",
       "    <tr style=\"text-align: right;\">\n",
       "      <th></th>\n",
       "      <th>Gamma</th>\n",
       "      <th>Validation Error</th>\n",
       "    </tr>\n",
       "  </thead>\n",
       "  <tbody>\n",
       "    <tr>\n",
       "      <th>0</th>\n",
       "      <td>0.001</td>\n",
       "      <td>0.089122</td>\n",
       "    </tr>\n",
       "    <tr>\n",
       "      <th>1</th>\n",
       "      <td>0.010</td>\n",
       "      <td>0.046038</td>\n",
       "    </tr>\n",
       "    <tr>\n",
       "      <th>2</th>\n",
       "      <td>0.100</td>\n",
       "      <td>0.034036</td>\n",
       "    </tr>\n",
       "    <tr>\n",
       "      <th>3</th>\n",
       "      <td>1.000</td>\n",
       "      <td>0.045039</td>\n",
       "    </tr>\n",
       "    <tr>\n",
       "      <th>4</th>\n",
       "      <td>10.000</td>\n",
       "      <td>0.086118</td>\n",
       "    </tr>\n",
       "    <tr>\n",
       "      <th>5</th>\n",
       "      <td>100.000</td>\n",
       "      <td>0.089122</td>\n",
       "    </tr>\n",
       "    <tr>\n",
       "      <th>6</th>\n",
       "      <td>1000.000</td>\n",
       "      <td>0.089122</td>\n",
       "    </tr>\n",
       "  </tbody>\n",
       "</table>\n",
       "</div>"
      ],
      "text/plain": [
       "      Gamma  Validation Error\n",
       "0     0.001          0.089122\n",
       "1     0.010          0.046038\n",
       "2     0.100          0.034036\n",
       "3     1.000          0.045039\n",
       "4    10.000          0.086118\n",
       "5   100.000          0.089122\n",
       "6  1000.000          0.089122"
      ]
     },
     "execution_count": 79,
     "metadata": {},
     "output_type": "execute_result"
    }
   ],
   "source": [
    "from sklearn.cross_validation import KFold\n",
    "\n",
    "g_vals = [0.001, 0.01, 0.1, 1, 10, 100, 1000]\n",
    "val_error = []\n",
    "\n",
    "train_x_np = np.array(train_x)\n",
    "train_y_np = np.array(train_y)\n",
    "\n",
    "for gamma_i in range(len(g_vals)):\n",
    "    model = svm.SVC(C=1, kernel='rbf', gamma=g_vals[gamma_i])\n",
    "    kfold = KFold(999, n_folds=7)\n",
    "    total_error = 0\n",
    "    \n",
    "    for train_i, test_i in kfold:\n",
    "        tr_x, tr_y = train_x_np[train_i], train_y_np[train_i]\n",
    "        ts_x, ts_y = train_x_np[test_i], train_y_np[test_i]\n",
    "        model.fit(tr_x, tr_y)\n",
    "        total_error += 1 - model.score(ts_x, ts_y)\n",
    "    \n",
    "    val_error.append(total_error/7)\n",
    "    \n",
    "df = pd.DataFrame(data = {'Gamma':g_vals, 'Validation Error':val_error})\n",
    "df "
   ]
  }
 ],
 "metadata": {
  "anaconda-cloud": {},
  "kernelspec": {
   "display_name": "Python 3",
   "language": "python",
   "name": "python3"
  },
  "language_info": {
   "codemirror_mode": {
    "name": "ipython",
    "version": 3
   },
   "file_extension": ".py",
   "mimetype": "text/x-python",
   "name": "python",
   "nbconvert_exporter": "python",
   "pygments_lexer": "ipython3",
   "version": "3.6.2"
  }
 },
 "nbformat": 4,
 "nbformat_minor": 1
}
